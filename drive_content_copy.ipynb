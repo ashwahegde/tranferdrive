{
  "nbformat": 4,
  "nbformat_minor": 0,
  "metadata": {
    "colab": {
      "name": "drive_file_mover.ipynb",
      "provenance": [],
      "collapsed_sections": [],
      "toc_visible": true
    },
    "kernelspec": {
      "name": "python3",
      "display_name": "Python 3"
    },
    "accelerator": "TPU"
  },
  "cells": [
    {
      "cell_type": "markdown",
      "metadata": {
        "id": "s50fEOHkcu13",
        "colab_type": "text"
      },
      "source": [
        "Author details:\n",
        "\n",
        "\n",
        "https://github.com/ashwahegde"
      ]
    },
    {
      "cell_type": "markdown",
      "metadata": {
        "id": "MLEQhrU8dH3Y",
        "colab_type": "text"
      },
      "source": [
        "Mount the drive from which data is to be copied."
      ]
    },
    {
      "cell_type": "code",
      "metadata": {
        "id": "HVDCpkkYvmfh",
        "colab_type": "code",
        "colab": {
          "base_uri": "https://localhost:8080/",
          "height": 122
        },
        "outputId": "5f57f1ad-62d6-4a5e-87ce-5951b33bb703"
      },
      "source": [
        "from google.colab import drive\n",
        "drive.mount('/content/drive')"
      ],
      "execution_count": 1,
      "outputs": [
        {
          "output_type": "stream",
          "text": [
            "Go to this URL in a browser: https://accounts.google.com/o/oauth2/auth?client_id=947318989803-6bn6qk8qdgf4n4g3pfee6491hc0brc4i.apps.googleusercontent.com&redirect_uri=urn%3aietf%3awg%3aoauth%3a2.0%3aoob&scope=email%20https%3a%2f%2fwww.googleapis.com%2fauth%2fdocs.test%20https%3a%2f%2fwww.googleapis.com%2fauth%2fdrive%20https%3a%2f%2fwww.googleapis.com%2fauth%2fdrive.photos.readonly%20https%3a%2f%2fwww.googleapis.com%2fauth%2fpeopleapi.readonly&response_type=code\n",
            "\n",
            "Enter your authorization code:\n",
            "··········\n",
            "Mounted at /content/drive\n"
          ],
          "name": "stdout"
        }
      ]
    },
    {
      "cell_type": "markdown",
      "metadata": {
        "id": "sGhzw4jleokm",
        "colab_type": "text"
      },
      "source": [
        "Specify the path of the source directory/folder wrt drive. ex: \n",
        "```py\n",
        "copy_from = \"mygallery/family\"\n",
        "```"
      ]
    },
    {
      "cell_type": "code",
      "metadata": {
        "id": "MmkpL3rXepOf",
        "colab_type": "code",
        "colab": {}
      },
      "source": [
        "copy_from = \"deephive\""
      ],
      "execution_count": 2,
      "outputs": []
    },
    {
      "cell_type": "markdown",
      "metadata": {
        "id": "t1hF4JhYdWjT",
        "colab_type": "text"
      },
      "source": [
        "verify the directory that is to be copied."
      ]
    },
    {
      "cell_type": "code",
      "metadata": {
        "id": "_1Crp-oEwbAp",
        "colab_type": "code",
        "colab": {
          "base_uri": "https://localhost:8080/",
          "height": 34
        },
        "outputId": "74f0bb56-8ef0-4950-f50c-83ae4dcc6f69"
      },
      "source": [
        "!ls /content/drive/My\\ Drive/$copy_from"
      ],
      "execution_count": 3,
      "outputs": [
        {
          "output_type": "stream",
          "text": [
            "'Colab Notebooks'   label_data\t my_tool   OCR_colab_notebooks\t program\n"
          ],
          "name": "stdout"
        }
      ]
    },
    {
      "cell_type": "markdown",
      "metadata": {
        "id": "EqoJESd0eBRC",
        "colab_type": "text"
      },
      "source": [
        "Check present working directory"
      ]
    },
    {
      "cell_type": "code",
      "metadata": {
        "id": "71UzPQkZxGZc",
        "colab_type": "code",
        "colab": {
          "base_uri": "https://localhost:8080/",
          "height": 34
        },
        "outputId": "84de0e6e-cb56-4ef3-ac91-89544b9100f8"
      },
      "source": [
        "!pwd"
      ],
      "execution_count": 4,
      "outputs": [
        {
          "output_type": "stream",
          "text": [
            "/content\n"
          ],
          "name": "stdout"
        }
      ]
    },
    {
      "cell_type": "markdown",
      "metadata": {
        "id": "F34hbmCjeGh8",
        "colab_type": "text"
      },
      "source": [
        "Create a directory to store the data on colab storage"
      ]
    },
    {
      "cell_type": "code",
      "metadata": {
        "id": "rICf2nMmxP9d",
        "colab_type": "code",
        "colab": {}
      },
      "source": [
        "mkdir mycopy"
      ],
      "execution_count": 5,
      "outputs": []
    },
    {
      "cell_type": "markdown",
      "metadata": {
        "id": "u8EzI9qpeOlF",
        "colab_type": "text"
      },
      "source": [
        "Check whether the directory is created"
      ]
    },
    {
      "cell_type": "code",
      "metadata": {
        "id": "r1EmzgoMxTS6",
        "colab_type": "code",
        "colab": {
          "base_uri": "https://localhost:8080/",
          "height": 34
        },
        "outputId": "72f05054-e862-4aaf-e7c2-ce1b9581973d"
      },
      "source": [
        "!ls"
      ],
      "execution_count": 6,
      "outputs": [
        {
          "output_type": "stream",
          "text": [
            "drive  mycopy  sample_data\n"
          ],
          "name": "stdout"
        }
      ]
    },
    {
      "cell_type": "markdown",
      "metadata": {
        "id": "MvuEi4S2p8LR",
        "colab_type": "text"
      },
      "source": [
        "Copy data to colab storage (to this runtime)"
      ]
    },
    {
      "cell_type": "code",
      "metadata": {
        "id": "GEyYnleVxUjm",
        "colab_type": "code",
        "colab": {}
      },
      "source": [
        "!cp -r /content/drive/My\\ Drive/$copy_from mycopy/"
      ],
      "execution_count": 7,
      "outputs": []
    },
    {
      "cell_type": "markdown",
      "metadata": {
        "id": "GX5eAT8JqEck",
        "colab_type": "text"
      },
      "source": [
        "Unmount this drive"
      ]
    },
    {
      "cell_type": "code",
      "metadata": {
        "id": "C6cMYyWVxbdr",
        "colab_type": "code",
        "colab": {}
      },
      "source": [
        "from google.colab import drive\n",
        "drive.flush_and_unmount()"
      ],
      "execution_count": 14,
      "outputs": []
    },
    {
      "cell_type": "markdown",
      "metadata": {
        "id": "9e5PQdlmqKhl",
        "colab_type": "text"
      },
      "source": [
        "Go to https://myaccount.google.com/permissions\n",
        "\n",
        "then remove colab from that\n"
      ]
    },
    {
      "cell_type": "markdown",
      "metadata": {
        "id": "orqD4uKaqb4h",
        "colab_type": "text"
      },
      "source": [
        "Remove drive (otherwise same drive will be mounted)"
      ]
    },
    {
      "cell_type": "code",
      "metadata": {
        "id": "ZH-f0Reo0W_v",
        "colab_type": "code",
        "colab": {}
      },
      "source": [
        "!rm -rf /content/drive"
      ],
      "execution_count": 15,
      "outputs": []
    },
    {
      "cell_type": "markdown",
      "metadata": {
        "id": "61hNItV8qr-p",
        "colab_type": "text"
      },
      "source": [
        "Mount destination drive. (it should ask for authorization code)"
      ]
    },
    {
      "cell_type": "code",
      "metadata": {
        "id": "GqVnKjZSy__L",
        "colab_type": "code",
        "colab": {
          "base_uri": "https://localhost:8080/",
          "height": 122
        },
        "outputId": "4cd3e96b-5c79-4adf-b3a2-0f4d9155097d"
      },
      "source": [
        "from google.colab import drive\n",
        "drive.mount('/content/drive')"
      ],
      "execution_count": 16,
      "outputs": [
        {
          "output_type": "stream",
          "text": [
            "Go to this URL in a browser: https://accounts.google.com/o/oauth2/auth?client_id=947318989803-6bn6qk8qdgf4n4g3pfee6491hc0brc4i.apps.googleusercontent.com&redirect_uri=urn%3aietf%3awg%3aoauth%3a2.0%3aoob&scope=email%20https%3a%2f%2fwww.googleapis.com%2fauth%2fdocs.test%20https%3a%2f%2fwww.googleapis.com%2fauth%2fdrive%20https%3a%2f%2fwww.googleapis.com%2fauth%2fdrive.photos.readonly%20https%3a%2f%2fwww.googleapis.com%2fauth%2fpeopleapi.readonly&response_type=code\n",
            "\n",
            "Enter your authorization code:\n",
            "··········\n",
            "Mounted at /content/drive\n"
          ],
          "name": "stdout"
        }
      ]
    },
    {
      "cell_type": "markdown",
      "metadata": {
        "id": "6nh0U7RirI2Y",
        "colab_type": "text"
      },
      "source": [
        "Copy content to destination drive"
      ]
    },
    {
      "cell_type": "code",
      "metadata": {
        "id": "v1VS8bg73-Yw",
        "colab_type": "code",
        "colab": {}
      },
      "source": [
        "!cp -r mycopy/* /content/drive/My\\ Drive/"
      ],
      "execution_count": 17,
      "outputs": []
    },
    {
      "cell_type": "code",
      "metadata": {
        "id": "udra_9Jl4SqC",
        "colab_type": "code",
        "colab": {}
      },
      "source": [
        "from google.colab import drive\n",
        "drive.flush_and_unmount()"
      ],
      "execution_count": null,
      "outputs": []
    },
    {
      "cell_type": "code",
      "metadata": {
        "id": "qeo2ziDPv714",
        "colab_type": "code",
        "colab": {}
      },
      "source": [
        ""
      ],
      "execution_count": null,
      "outputs": []
    }
  ]
}